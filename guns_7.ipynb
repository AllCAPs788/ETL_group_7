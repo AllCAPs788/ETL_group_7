{
 "cells": [
  {
   "cell_type": "code",
   "execution_count": 20,
   "metadata": {},
   "outputs": [],
   "source": [
    "import pandas as pd\n",
    "import glob\n",
    "from sqlalchemy import create_engine"
   ]
  },
  {
   "cell_type": "markdown",
   "metadata": {},
   "source": [
    "### Extract CSVs into DataFrames"
   ]
  },
  {
   "cell_type": "code",
   "execution_count": 24,
   "metadata": {},
   "outputs": [],
   "source": [
    "#importing pandas as pd \n",
    "import pandas as pd\n",
    "file_paths = ['2018-first-quarter-stolen-gun-data-xlsx-12.csv',\n",
    "'2018-fourth-quarter-stolen-guns-xlsx-7.csv',\n",
    "'2018-second-quarter-stolen-guns-xlsx-13.csv',\n",
    "'2018-third-quarter-stolen-guns-xlsx-8.csv',\n",
    "'2019-first-quarter-stolen-gun-data-17.csv',\n",
    "'2019-fourth-quarter-stolen-gun-data-16.csv',\n",
    "'2019-second-quarter-stolen-gun-data-1.csv',\n",
    "'2019-third-quarter-stolen-guns-14.csv',\n",
    "'2020-first-quarter-stolen-guns-11.csv',\n",
    "'2020-second-quarter-stolen-gun-data-5.csv']\n",
    "for file_path in file_paths:\n",
    "    # Read and store content \n",
    "    # of an excel file  \n",
    "    read_file = pd.read_excel (f'Resources/{file_path}') \n",
    "    # Write the dataframe object \n",
    "    # into csv file \n",
    "    read_file.to_csv (f'Resources/{file_path}',  \n",
    "                      index = None, \n",
    "                      header=True) \n",
    "# read csv file and convert  \n",
    "# into a dataframe object"
   ]
  },
  {
   "cell_type": "code",
   "execution_count": null,
   "metadata": {},
   "outputs": [],
   "source": [
    "'2018-first-quarter-stolen-gun-data-xlsx-12.csv',\n",
    "'2018-fourth-quarter-stolen-guns-xlsx-7.csv',\n",
    "'2018-second-quarter-stolen-guns-xlsx-13.csv',\n",
    "'2018-third-quarter-stolen-guns-xlsx-8.csv',\n",
    "'2019-first-quarter-stolen-gun-data-17.csv',\n",
    "'2019-fourth-quarter-stolen-gun-data-16.csv',\n",
    "'2019-second-quarter-stolen-gun-data-1.csv',\n",
    "'2019-third-quarter-stolen-guns-14.csv',\n",
    "'2020-first-quarter-stolen-guns-11.csv',\n",
    "'2020-second-quarter-stolen-gun-data-5.csv'"
   ]
  },
  {
   "cell_type": "code",
   "execution_count": 25,
   "metadata": {},
   "outputs": [
    {
     "ename": "SyntaxError",
     "evalue": "invalid syntax (<ipython-input-25-eccaffafdf3b>, line 4)",
     "output_type": "error",
     "traceback": [
      "\u001b[0;36m  File \u001b[0;32m\"<ipython-input-25-eccaffafdf3b>\"\u001b[0;36m, line \u001b[0;32m4\u001b[0m\n\u001b[0;31m    path = r'C:f'Resources/{file_path}' # use your path\u001b[0m\n\u001b[0m                         ^\u001b[0m\n\u001b[0;31mSyntaxError\u001b[0m\u001b[0;31m:\u001b[0m invalid syntax\n"
     ]
    }
   ],
   "source": [
    "import pandas as pd\n",
    "import glob\n",
    "\n",
    "path = r'C:\\DRO\\DCL_rawdata_files' # use your path\n",
    "all_files = glob.glob(path + \"/*.csv\")\n",
    "\n",
    "li = []\n",
    "\n",
    "for filename in all_files:\n",
    "    df = pd.read_csv(filename, index_col=None, header=0)\n",
    "    li.append(df)\n",
    "\n",
    "frame = pd.concat(li, axis=0, ignore_index=True)"
   ]
  },
  {
   "cell_type": "markdown",
   "metadata": {},
   "source": [
    "### Transform premise DataFrame"
   ]
  },
  {
   "cell_type": "code",
   "execution_count": null,
   "metadata": {},
   "outputs": [],
   "source": []
  },
  {
   "cell_type": "markdown",
   "metadata": {},
   "source": [
    "### Transform county DataFrame"
   ]
  },
  {
   "cell_type": "code",
   "execution_count": null,
   "metadata": {},
   "outputs": [],
   "source": []
  },
  {
   "cell_type": "markdown",
   "metadata": {},
   "source": [
    "### Create database connection"
   ]
  },
  {
   "cell_type": "code",
   "execution_count": null,
   "metadata": {},
   "outputs": [],
   "source": []
  },
  {
   "cell_type": "code",
   "execution_count": null,
   "metadata": {},
   "outputs": [],
   "source": []
  },
  {
   "cell_type": "markdown",
   "metadata": {},
   "source": [
    "### Load DataFrames into database"
   ]
  },
  {
   "cell_type": "code",
   "execution_count": null,
   "metadata": {},
   "outputs": [],
   "source": []
  },
  {
   "cell_type": "code",
   "execution_count": null,
   "metadata": {},
   "outputs": [],
   "source": []
  },
  {
   "cell_type": "code",
   "execution_count": null,
   "metadata": {},
   "outputs": [],
   "source": []
  }
 ],
 "metadata": {
  "kernelspec": {
   "display_name": "Python [conda env:PythonData]",
   "language": "python",
   "name": "conda-env-PythonData-py"
  },
  "language_info": {
   "codemirror_mode": {
    "name": "ipython",
    "version": 3
   },
   "file_extension": ".py",
   "mimetype": "text/x-python",
   "name": "python",
   "nbconvert_exporter": "python",
   "pygments_lexer": "ipython3",
   "version": "3.6.10"
  }
 },
 "nbformat": 4,
 "nbformat_minor": 2
}
